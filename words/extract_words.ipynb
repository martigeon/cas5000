{
 "cells": [
  {
   "cell_type": "code",
   "execution_count": 1,
   "metadata": {},
   "outputs": [],
   "source": [
    "import numpy as np\n",
    "import csv\n",
    "import re\n",
    "\n",
    "path = 'spanish_5000.txt'\n",
    "\n",
    "with open(path, encoding='utf-8') as f:\n",
    "    reader = csv.reader(f, delimiter='\\t')\n",
    "    raw = list(reader)\n",
    "\n",
    "raw = np.asarray(raw)\n",
    "\n",
    "word_order = np.asarray([ int(i) for i in raw[:,4]])\n",
    "it = np.argsort(word_order)\n",
    "\n",
    "raw = raw[it]\n",
    "\n",
    "words_esp = raw[:,0]\n",
    "words_eng = raw[:,2]\n",
    "words_type = raw[:,5]\n",
    "\n",
    "def print_esp():\n",
    "    for w in words_esp:\n",
    "        print(w)\n",
    "\n",
    "def print_eng():\n",
    "    for w in words_eng:\n",
    "        print(w)\n",
    "        \n",
    "def print_type():\n",
    "    for w in words_type:\n",
    "        print(w)\n",
    "        \n",
    "def print_order():\n",
    "    for w in raw[:,4]:\n",
    "        print(w)\n",
    "        \n",
    "def regsub(arr, start, to):\n",
    "    return np.array(list(map(lambda v: re.sub(start, to, v), arr)))\n",
    "\n",
    "# Trim trailing and leading whitespace.\n",
    "def trim_ws(arr):\n",
    "    arr = regsub(arr, '^\\s+', '')\n",
    "    return regsub(arr, '\\s+$', '')"
   ]
  },
  {
   "cell_type": "code",
   "execution_count": 24,
   "metadata": {},
   "outputs": [],
   "source": [
    "words_esp = regsub(words_esp, '\\(.*?\\)', ' ') # Delete anything inside parentheses.\n",
    "words_esp = trim_ws(words_esp)\n",
    "\n",
    "words_eng = trim_ws(words_eng)\n",
    "\n",
    "words_type = regsub(words_type, '[0-9]', ' ') # Delete numbers.\n",
    "words_type = trim_ws(words_type)"
   ]
  },
  {
   "cell_type": "code",
   "execution_count": 25,
   "metadata": {},
   "outputs": [],
   "source": [
    "result = np.empty((5000, 3), dtype='<U100')\n",
    "\n",
    "result[:,0] = words_esp\n",
    "result[:,1] = words_eng\n",
    "result[:,2] = words_type\n",
    "\n",
    "np.savetxt('spanish_5000_clean.txt', result, delimiter='|', fmt='%s')"
   ]
  },
  {
   "cell_type": "markdown",
   "metadata": {},
   "source": [
    "`spanish_5000_clean.txt` is then imported into excel to further manualy edit some entries. This is then saved as a tab-delimited text file and imported in next line."
   ]
  },
  {
   "cell_type": "code",
   "execution_count": 4,
   "metadata": {},
   "outputs": [],
   "source": [
    "corrected_path = 'castellano5000.txt'\n",
    "\n",
    "with open(corrected_path) as f:\n",
    "    reader = csv.reader(f, delimiter='\\t')\n",
    "    rawnew = np.asarray(list(reader))\n",
    "\n",
    "for i in range(50):\n",
    "    start = i*100\n",
    "    end = start+100\n",
    "    fname = 'L{}.txt'.format(i+1)\n",
    "    result = rawnew[start:end]\n",
    "    np.savetxt(fname, result, delimiter='\\t', fmt='%s')"
   ]
  },
  {
   "cell_type": "code",
   "execution_count": null,
   "metadata": {},
   "outputs": [],
   "source": []
  }
 ],
 "metadata": {
  "kernelspec": {
   "display_name": "Python 3",
   "language": "python",
   "name": "python3"
  },
  "language_info": {
   "codemirror_mode": {
    "name": "ipython",
    "version": 3
   },
   "file_extension": ".py",
   "mimetype": "text/x-python",
   "name": "python",
   "nbconvert_exporter": "python",
   "pygments_lexer": "ipython3",
   "version": "3.7.4"
  }
 },
 "nbformat": 4,
 "nbformat_minor": 2
}
